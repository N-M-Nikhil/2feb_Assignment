{
 "cells": [
  {
   "cell_type": "code",
   "execution_count": 1,
   "id": "67878ded-d570-425c-a52b-84926d4fe6c1",
   "metadata": {},
   "outputs": [
    {
     "name": "stdout",
     "output_type": "stream",
     "text": [
      "1\n",
      "2\n",
      "3\n",
      "---\n",
      "0\n",
      "1\n",
      "2\n",
      "3\n",
      "4\n",
      "5\n",
      "6\n",
      "7\n",
      "8\n",
      "9\n"
     ]
    }
   ],
   "source": [
    "# Q.1:Answer\n",
    "\n",
    "# For loop\n",
    "# This is used to run a block code when the number of iterations is known.\n",
    "# for example:\n",
    "l = [1,2,3]\n",
    "for i in l:\n",
    "\n",
    "    print(i)\n",
    "    i=i+1\n",
    "    \n",
    "print('---')\n",
    "    \n",
    "# While loop\n",
    "# While loop is used to run a block code when the number of iterations is not known.\n",
    "# for example:\n",
    "i = 0\n",
    "while i<10:\n",
    "    print(i)\n",
    "    i=i+1\n",
    "# For loop\n"
   ]
  },
  {
   "cell_type": "code",
   "execution_count": 2,
   "id": "7464212e-3502-4b8c-911b-4541398369fd",
   "metadata": {},
   "outputs": [
    {
     "name": "stdout",
     "output_type": "stream",
     "text": [
      "Sum of first ten natural number by using for loop = 55\n",
      "Product of first ten natural number by using for loop = 3628800\n",
      "Sum of first ten natural number by using while loop = 55\n",
      "Product of first ten natural number by using while loop = 3628800\n"
     ]
    }
   ],
   "source": [
    "# Q.2:Answer\n",
    "\n",
    "                        # By using for loop\n",
    "\n",
    "# Sum of first ten natural number:\n",
    "\n",
    "result1 = 0\n",
    "for i in range(1,11):\n",
    "    result1+=i\n",
    "    i+=1\n",
    "print('Sum of first ten natural number by using for loop =',result1)\n",
    "\n",
    "# Product of first ten natural number:\n",
    "\n",
    "result2 = 1\n",
    "for i in range(1,11):\n",
    "    result2*=i\n",
    "    i+=1\n",
    "print('Product of first ten natural number by using for loop =',result2)\n",
    "\n",
    "\n",
    "                        # By using while loop \n",
    "\n",
    "# Sum of first ten natural\n",
    "\n",
    "result3 = 0\n",
    "i = 1\n",
    "while i <= 10:\n",
    "    result3+=i\n",
    "    i+=1\n",
    "print('Sum of first ten natural number by using while loop =',result3)\n",
    "\n",
    "# Product of first ten natural:\n",
    "\n",
    "result4 = 1\n",
    "i = 1\n",
    "while i <= 10:\n",
    "    result4*=i\n",
    "    i+=1\n",
    "print('Product of first ten natural number by using while loop =',result4)\n",
    "\n",
    "\n",
    "    \n",
    "    \n"
   ]
  },
  {
   "cell_type": "code",
   "execution_count": 1,
   "id": "a67f1921-97d1-452b-ba45-35aa5dd34d0a",
   "metadata": {},
   "outputs": [
    {
     "name": "stdin",
     "output_type": "stream",
     "text": [
      "Enter the amount of electricity consumed = 310\n"
     ]
    },
    {
     "name": "stdout",
     "output_type": "stream",
     "text": [
      "2250.0\n"
     ]
    }
   ],
   "source": [
    "# Q.3:Answer\n",
    "\n",
    "electrical_unit = int(input('Enter the amount of electricity consumed ='))\n",
    "bill = 0\n",
    "if 1<=electrical_unit<=100:\n",
    "    bill=electrical_unit*4.5\n",
    "elif 101<=electrical_unit<=200:\n",
    "    bill=100*4.5+((electrical_unit-100)*6)\n",
    "elif 201<=electrical_unit<=300:\n",
    "    bill=100*4.5+100*6+((electrical_unit-200)*10)\n",
    "elif electrical_unit>300:\n",
    "    bill=100*4.5+100*6+100*10+((electrical_unit-300)*20)\n",
    "    \n",
    "print(bill)\n",
    "    \n",
    "\n"
   ]
  },
  {
   "cell_type": "code",
   "execution_count": 5,
   "id": "d7ad4a8b-5c17-4770-9ecd-bde1728a0292",
   "metadata": {},
   "outputs": [],
   "source": [
    "# Q.4:Answer\n",
    "\n",
    "# By using for loop:\n",
    "\n",
    "l = []\n",
    "l_divisible_num_list = []\n",
    "for i in range(1,101):\n",
    "    r=i**3\n",
    "    if r%4==0 or r%5==0:\n",
    "        l_divisible_num_list.append(r)\n",
    "    else :\n",
    "        l.append(r)\n",
    "        \n",
    "        \n",
    "# By using while loop:\n",
    "\n",
    "l1 = []\n",
    "l_divisible_num_list_1 = []\n",
    "\n",
    "i = 1\n",
    "while i<=100:\n",
    "    r1=i**3\n",
    "    if r1%4==0 or r1%5==0:\n",
    "        l_divisible_num_list_1.append(r1)\n",
    "    else :\n",
    "        l1.append(r1)\n",
    "    i+=1\n",
    "\n"
   ]
  },
  {
   "cell_type": "code",
   "execution_count": 10,
   "id": "17a2f457-c1eb-4547-ba43-7645e1403c49",
   "metadata": {},
   "outputs": [
    {
     "data": {
      "text/plain": [
       "[1,\n",
       " 27,\n",
       " 343,\n",
       " 729,\n",
       " 1331,\n",
       " 2197,\n",
       " 4913,\n",
       " 6859,\n",
       " 9261,\n",
       " 12167,\n",
       " 19683,\n",
       " 24389,\n",
       " 29791,\n",
       " 35937,\n",
       " 50653,\n",
       " 59319,\n",
       " 68921,\n",
       " 79507,\n",
       " 103823,\n",
       " 117649,\n",
       " 132651,\n",
       " 148877,\n",
       " 185193,\n",
       " 205379,\n",
       " 226981,\n",
       " 250047,\n",
       " 300763,\n",
       " 328509,\n",
       " 357911,\n",
       " 389017,\n",
       " 456533,\n",
       " 493039,\n",
       " 531441,\n",
       " 571787,\n",
       " 658503,\n",
       " 704969,\n",
       " 753571,\n",
       " 804357,\n",
       " 912673,\n",
       " 970299]"
      ]
     },
     "execution_count": 10,
     "metadata": {},
     "output_type": "execute_result"
    }
   ],
   "source": [
    "l"
   ]
  },
  {
   "cell_type": "code",
   "execution_count": 11,
   "id": "c6bf4c72-2ca8-4c16-a71b-1e1cfbfcbb46",
   "metadata": {},
   "outputs": [
    {
     "data": {
      "text/plain": [
       "[8,\n",
       " 64,\n",
       " 125,\n",
       " 216,\n",
       " 512,\n",
       " 1000,\n",
       " 1728,\n",
       " 2744,\n",
       " 3375,\n",
       " 4096,\n",
       " 5832,\n",
       " 8000,\n",
       " 10648,\n",
       " 13824,\n",
       " 15625,\n",
       " 17576,\n",
       " 21952,\n",
       " 27000,\n",
       " 32768,\n",
       " 39304,\n",
       " 42875,\n",
       " 46656,\n",
       " 54872,\n",
       " 64000,\n",
       " 74088,\n",
       " 85184,\n",
       " 91125,\n",
       " 97336,\n",
       " 110592,\n",
       " 125000,\n",
       " 140608,\n",
       " 157464,\n",
       " 166375,\n",
       " 175616,\n",
       " 195112,\n",
       " 216000,\n",
       " 238328,\n",
       " 262144,\n",
       " 274625,\n",
       " 287496,\n",
       " 314432,\n",
       " 343000,\n",
       " 373248,\n",
       " 405224,\n",
       " 421875,\n",
       " 438976,\n",
       " 474552,\n",
       " 512000,\n",
       " 551368,\n",
       " 592704,\n",
       " 614125,\n",
       " 636056,\n",
       " 681472,\n",
       " 729000,\n",
       " 778688,\n",
       " 830584,\n",
       " 857375,\n",
       " 884736,\n",
       " 941192,\n",
       " 1000000]"
      ]
     },
     "execution_count": 11,
     "metadata": {},
     "output_type": "execute_result"
    }
   ],
   "source": [
    "l_divisible_num_list"
   ]
  },
  {
   "cell_type": "code",
   "execution_count": 12,
   "id": "3608b56b-d131-4f86-8a59-9751893888cd",
   "metadata": {},
   "outputs": [
    {
     "data": {
      "text/plain": [
       "[1,\n",
       " 27,\n",
       " 343,\n",
       " 729,\n",
       " 1331,\n",
       " 2197,\n",
       " 4913,\n",
       " 6859,\n",
       " 9261,\n",
       " 12167,\n",
       " 19683,\n",
       " 24389,\n",
       " 29791,\n",
       " 35937,\n",
       " 50653,\n",
       " 59319,\n",
       " 68921,\n",
       " 79507,\n",
       " 103823,\n",
       " 117649,\n",
       " 132651,\n",
       " 148877,\n",
       " 185193,\n",
       " 205379,\n",
       " 226981,\n",
       " 250047,\n",
       " 300763,\n",
       " 328509,\n",
       " 357911,\n",
       " 389017,\n",
       " 456533,\n",
       " 493039,\n",
       " 531441,\n",
       " 571787,\n",
       " 658503,\n",
       " 704969,\n",
       " 753571,\n",
       " 804357,\n",
       " 912673,\n",
       " 970299]"
      ]
     },
     "execution_count": 12,
     "metadata": {},
     "output_type": "execute_result"
    }
   ],
   "source": [
    "l1"
   ]
  },
  {
   "cell_type": "code",
   "execution_count": 13,
   "id": "39d745e3-50ea-44b8-bae9-8cf0dd1b69e1",
   "metadata": {},
   "outputs": [
    {
     "data": {
      "text/plain": [
       "[8,\n",
       " 64,\n",
       " 125,\n",
       " 216,\n",
       " 512,\n",
       " 1000,\n",
       " 1728,\n",
       " 2744,\n",
       " 3375,\n",
       " 4096,\n",
       " 5832,\n",
       " 8000,\n",
       " 10648,\n",
       " 13824,\n",
       " 15625,\n",
       " 17576,\n",
       " 21952,\n",
       " 27000,\n",
       " 32768,\n",
       " 39304,\n",
       " 42875,\n",
       " 46656,\n",
       " 54872,\n",
       " 64000,\n",
       " 74088,\n",
       " 85184,\n",
       " 91125,\n",
       " 97336,\n",
       " 110592,\n",
       " 125000,\n",
       " 140608,\n",
       " 157464,\n",
       " 166375,\n",
       " 175616,\n",
       " 195112,\n",
       " 216000,\n",
       " 238328,\n",
       " 262144,\n",
       " 274625,\n",
       " 287496,\n",
       " 314432,\n",
       " 343000,\n",
       " 373248,\n",
       " 405224,\n",
       " 421875,\n",
       " 438976,\n",
       " 474552,\n",
       " 512000,\n",
       " 551368,\n",
       " 592704,\n",
       " 614125,\n",
       " 636056,\n",
       " 681472,\n",
       " 729000,\n",
       " 778688,\n",
       " 830584,\n",
       " 857375,\n",
       " 884736,\n",
       " 941192,\n",
       " 1000000]"
      ]
     },
     "execution_count": 13,
     "metadata": {},
     "output_type": "execute_result"
    }
   ],
   "source": [
    "l_divisible_num_list_1"
   ]
  },
  {
   "cell_type": "code",
   "execution_count": 14,
   "id": "6fd79bc4-3875-4a8e-afde-35c625e4179b",
   "metadata": {},
   "outputs": [],
   "source": [
    "# Q.5:Answer\n",
    "string = \"I want to become a data scientist\"\n",
    "count = 0\n",
    "for i in string:\n",
    "    if i=='a' or i=='e' or i=='I' or i=='i' or i=='o' or i=='u':\n",
    "        count+=1\n"
   ]
  },
  {
   "cell_type": "code",
   "execution_count": 15,
   "id": "bdef3fbe-5ca3-444b-b64c-644e8ca573ca",
   "metadata": {},
   "outputs": [
    {
     "data": {
      "text/plain": [
       "12"
      ]
     },
     "execution_count": 15,
     "metadata": {},
     "output_type": "execute_result"
    }
   ],
   "source": [
    "count"
   ]
  },
  {
   "cell_type": "code",
   "execution_count": null,
   "id": "07be384b-e9b8-4a22-b802-f4a88d4db9d9",
   "metadata": {},
   "outputs": [],
   "source": []
  }
 ],
 "metadata": {
  "kernelspec": {
   "display_name": "Python 3 (ipykernel)",
   "language": "python",
   "name": "python3"
  },
  "language_info": {
   "codemirror_mode": {
    "name": "ipython",
    "version": 3
   },
   "file_extension": ".py",
   "mimetype": "text/x-python",
   "name": "python",
   "nbconvert_exporter": "python",
   "pygments_lexer": "ipython3",
   "version": "3.10.8"
  }
 },
 "nbformat": 4,
 "nbformat_minor": 5
}
